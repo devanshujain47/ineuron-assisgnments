{
 "cells": [
  {
   "cell_type": "markdown",
   "metadata": {},
   "source": [
    "# PYTHON BASIC ASSIGNMENT 1"
   ]
  },
  {
   "cell_type": "markdown",
   "metadata": {},
   "source": [
    "\n",
    " Ans 1) - *  -- EXPRESSION,\n",
    "    'HELLO' - VALUE,\n",
    "    -87.8 -- VALUE,\n",
    "    -  --- EXPRESSION,\n",
    "    / --- EXPRESSION,\n",
    "    + --- EXPRESSION,\n",
    "    6 --- VALUE,"
   ]
  },
  {
   "cell_type": "markdown",
   "metadata": {},
   "source": [
    " \n",
    "Ans 2) - variable is used to store value maybe temporary or permanent. \n",
    "      string is a text variable which can be stored into variable.\n",
    "      "
   ]
  },
  {
   "cell_type": "markdown",
   "metadata": {},
   "source": [
    "Ans 3) numeric, boolean and sequence"
   ]
  },
  {
   "cell_type": "markdown",
   "metadata": {},
   "source": [
    "Ans 4) - expression is made up of variables, operators, data types. \n",
    "         expression generally combines all the variables and operators to form a defined syntax as per the language to evaluate          the desired output"
   ]
  },
  {
   "cell_type": "markdown",
   "metadata": {},
   "source": [
    "Ans 5) An expression evaluates some end result or output while statment represents some command or an action to be performed."
   ]
  },
  {
   "cell_type": "markdown",
   "metadata": {},
   "source": [
    "Ans 6) 23"
   ]
  },
  {
   "cell_type": "markdown",
   "metadata": {},
   "source": [
    "Ans 7)  'spamspamspam' , \n",
    "\n",
    "       'spamspamspam'"
   ]
  },
  {
   "cell_type": "markdown",
   "metadata": {},
   "source": [
    "Ans 8) Eggs is string which can be used as variable name while variable cannot be an integer"
   ]
  },
  {
   "cell_type": "markdown",
   "metadata": {},
   "source": [
    "Ans 9)str()\n",
    "\n",
    "      int()\n",
    "      \n",
    "      float()"
   ]
  },
  {
   "cell_type": "markdown",
   "metadata": {},
   "source": [
    "Ans 10) error will appear as summation of string and integer is not possible. To rectify it, make integer to string. \n",
    "\n",
    "       corrected - 'I have eaten' + str(99) + 'burritos'"
   ]
  },
  {
   "cell_type": "code",
   "execution_count": null,
   "metadata": {},
   "outputs": [],
   "source": []
  }
 ],
 "metadata": {
  "kernelspec": {
   "display_name": "Python 3",
   "language": "python",
   "name": "python3"
  },
  "language_info": {
   "codemirror_mode": {
    "name": "ipython",
    "version": 3
   },
   "file_extension": ".py",
   "mimetype": "text/x-python",
   "name": "python",
   "nbconvert_exporter": "python",
   "pygments_lexer": "ipython3",
   "version": "3.8.5"
  }
 },
 "nbformat": 4,
 "nbformat_minor": 4
}
