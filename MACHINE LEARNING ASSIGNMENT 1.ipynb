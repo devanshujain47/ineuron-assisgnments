{
 "cells": [
  {
   "cell_type": "markdown",
   "metadata": {},
   "source": [
    "# MACHINE LEARNING ASSIGNMENT 1\n"
   ]
  },
  {
   "cell_type": "markdown",
   "metadata": {},
   "source": [
    "Ans 1) It is a branch of AI in which a machine learns to imitate humans or some or other machines by initially training it to some extent in form of structured or unstructured dataset using some algorithms. "
   ]
  },
  {
   "cell_type": "markdown",
   "metadata": {},
   "source": [
    "Ans 2) 1: Robotics, 2) Spam detection, 3) forecasting , 4) iamge detection"
   ]
  },
  {
   "cell_type": "markdown",
   "metadata": {},
   "source": [
    "Ans3) Labelled dataset defines the portion of allocated dataset from a lot of training dataset used to the train the algorithm       with features as input and labels as output. The algorithm learns from labelled labelled dataset and the result applies         on teting dataset "
   ]
  },
  {
   "cell_type": "markdown",
   "metadata": {},
   "source": [
    "Ans4) 1) learning the address of new neighbourhood after few days of frequent wandering, 2) learning to behave properly infront of guests after previous experiences of getting scolding from parents "
   ]
  },
  {
   "cell_type": "markdown",
   "metadata": {},
   "source": [
    "Ans 5) 1)Audience segmentation, 2)Anomaly detection , 3)Inventory management (by conversion activity or by availability)"
   ]
  },
  {
   "cell_type": "markdown",
   "metadata": {},
   "source": [
    "Ans 6) UnSupervised ML model with clustering can be used for robot walk in unfamiliar terrain"
   ]
  },
  {
   "cell_type": "markdown",
   "metadata": {},
   "source": [
    "Ans 7) Clustering"
   ]
  },
  {
   "cell_type": "markdown",
   "metadata": {},
   "source": [
    "Ans8) Supervised"
   ]
  },
  {
   "cell_type": "markdown",
   "metadata": {},
   "source": [
    "Ans 9) Online learning is a method of education whereby students learn in a fully virtual environment. "
   ]
  },
  {
   "cell_type": "markdown",
   "metadata": {},
   "source": [
    "Ans 10) The term out-of-core typically refers to processing data that is too large to fit into a computer’s main memory.\n",
    "\n",
    "Typically, when a dataset fits neatly into a computer’s main memory, randomly accessing sections of data has a (relatively) small performance penalty."
   ]
  },
  {
   "cell_type": "markdown",
   "metadata": {},
   "source": [
    "Ans 11) instance-based algorithm"
   ]
  },
  {
   "cell_type": "markdown",
   "metadata": {},
   "source": [
    "Ans 12) Model Parameters: These are the parameters in the model that must be determined using the training data set. These are the fitted parameters.\n",
    "        Hyperparameters: These are adjustable parameters that must be tuned in order to obtain a model with optimal      performance."
   ]
  },
  {
   "cell_type": "markdown",
   "metadata": {},
   "source": [
    "Ans 13) the goal for a model-based algorithm is to be able to generalize to new examples. To do this, model based algorithms search for optimal values for the model's parameters, often called theta. This searching, or \"learning\", is what machine learning is all about. Model-based system learn by minimizing a cost function that measures how bad the system is at making predicitons on new data, plus a penalty for model complexity if the model is regularized. To make a prediction, a new instance's features are fed into a hypothesis function which uses the minimized theta found by repeatedly running the cost function."
   ]
  },
  {
   "cell_type": "markdown",
   "metadata": {},
   "source": [
    "Ans 14) 1) Data cleaning- not proper data available\n",
    "       2) Proper feature selection\n",
    "        3) Overfitting, which may cause low test accuracy\n",
    "        4) Underfitting"
   ]
  },
  {
   "cell_type": "markdown",
   "metadata": {},
   "source": [
    "Ans 15) Overfitting\n",
    "      1) reduce complexity of algorithms by proper feature selection\n",
    "      2) providing larger dataset\n",
    "      3) removing outliers by proper feature selection\n",
    "    "
   ]
  },
  {
   "cell_type": "markdown",
   "metadata": {},
   "source": [
    "Ans 16) Test set is untested dataset which is used to  test the accuracy of model on  unseen dataset. if model have respectively good accuracy on test set, then it can be used for final deployment"
   ]
  },
  {
   "cell_type": "markdown",
   "metadata": {},
   "source": [
    "Ans 17) Validation datast is used to validate training model by validating results using hyperparameter tuning of different hyperparameters"
   ]
  },
  {
   "cell_type": "markdown",
   "metadata": {},
   "source": [
    "Ans 18)  The goal of dev-set is to rank the models in term of their accuracy and helps us decide which model to proceed further with. Using Dev set we rank all our models in terms of their accuracy and pick the best performing model"
   ]
  },
  {
   "cell_type": "markdown",
   "metadata": {},
   "source": [
    "Ans 19) model will not be able to generalize to new examples. "
   ]
  },
  {
   "cell_type": "code",
   "execution_count": null,
   "metadata": {},
   "outputs": [],
   "source": []
  }
 ],
 "metadata": {
  "kernelspec": {
   "display_name": "Python 3",
   "language": "python",
   "name": "python3"
  },
  "language_info": {
   "codemirror_mode": {
    "name": "ipython",
    "version": 3
   },
   "file_extension": ".py",
   "mimetype": "text/x-python",
   "name": "python",
   "nbconvert_exporter": "python",
   "pygments_lexer": "ipython3",
   "version": "3.8.5"
  }
 },
 "nbformat": 4,
 "nbformat_minor": 4
}
